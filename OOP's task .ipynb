{
 "cells": [
  {
   "cell_type": "code",
   "execution_count": 5,
   "id": "7fb1d2c2-8dcc-4ff9-a20f-227b89137c75",
   "metadata": {},
   "outputs": [],
   "source": [
    "\"\"\"QTS. 1 \"\"\"\n",
    "\n",
    "class vehicle:\n",
    "    def __init__(self,name,maxspeed,avgspeed):\n",
    "        self.name=name\n",
    "        self.maxspeed=maxspeed\n",
    "        self.avgspeed=avgspeed"
   ]
  },
  {
   "cell_type": "code",
   "execution_count": 6,
   "id": "d54fde17-83eb-4402-9964-3b4675982889",
   "metadata": {},
   "outputs": [],
   "source": [
    "name_of_vehicle= vehicle('maruti','100','75')\n",
    "max_speed= vehicle('car','60','40')\n",
    "average_of_vehicle= vehicle('scooter','70','50')\n",
    "\n"
   ]
  },
  {
   "cell_type": "code",
   "execution_count": 7,
   "id": "32e2a1c7-09c3-4678-9990-d1634dbc5b8b",
   "metadata": {},
   "outputs": [],
   "source": [
    "\"\"\"QTS. 2 \"\"\"\n",
    "\n",
    "class car(vehicle):\n",
    "    \n",
    "    def seating_capacity(self,capacity):\n",
    "        return self.capacity\n",
    "        return self.name\n",
    "            "
   ]
  },
  {
   "cell_type": "code",
   "execution_count": 14,
   "id": "26a998b9-94ce-4761-a8ca-4e91e320e241",
   "metadata": {},
   "outputs": [],
   "source": [
    "\"\"\"QTS.3\"\"\"\n",
    "\n",
    "\"\"\"Multiple inheritance is a feature of some object oriented computer \n",
    "   programming language in which one class or object can inherit \n",
    "   property of more than one class or object\"\"\"\n",
    "\n",
    "class a1:\n",
    "    def add(self,a,b):\n",
    "        self.a=a\n",
    "        self.b=b\n",
    "        return a+b\n",
    "class a2:\n",
    "    def sub(self,a,b):\n",
    "        self.a=a\n",
    "        self.b=b\n",
    "        return a-b\n",
    "class a3(a1,a2):\n",
    "    pass"
   ]
  },
  {
   "cell_type": "code",
   "execution_count": 16,
   "id": "44148b39-4cf8-42c5-a82a-f8dc055f277b",
   "metadata": {},
   "outputs": [
    {
     "data": {
      "text/plain": [
       "97"
      ]
     },
     "execution_count": 16,
     "metadata": {},
     "output_type": "execute_result"
    }
   ],
   "source": [
    "obj3=a3()\n",
    "obj3.add(45,52)"
   ]
  },
  {
   "cell_type": "code",
   "execution_count": 17,
   "id": "37ee0c04-dc8d-4542-9d3a-b98aec88192c",
   "metadata": {},
   "outputs": [
    {
     "data": {
      "text/plain": [
       "11"
      ]
     },
     "execution_count": 17,
     "metadata": {},
     "output_type": "execute_result"
    }
   ],
   "source": [
    "obj3.sub(25,14)"
   ]
  },
  {
   "cell_type": "code",
   "execution_count": 15,
   "id": "3567b396-e1b7-4441-8777-572c534def57",
   "metadata": {},
   "outputs": [],
   "source": [
    "\"\"\"QTS. 4\"\"\"\n",
    "\"\"\"a getter is a method that allows you to access an attribute in given class\"\"\"\n",
    "\"\"\"while a setter is a method that allows you to set or mutate the value of an attribute in class\"\"\"\n",
    "\n",
    "class bankaccount:\n",
    "    def __init__(self,amount,balance):\n",
    "        self.amount=amount\n",
    "        self.__balance=balance \"\"\"hidden entity\"\"\" \n",
    "@property\n",
    "def balance_access(self):\n",
    "    return self.__balance\n",
    "\n",
    "@balance_access.setter\n",
    "def set_account(self,ad):\n",
    "    self.ad=ad\n",
    "    if self.__balance>ad:\n",
    "        return self.__balance-ad\n",
    "    else:\n",
    "        return self.__balance\n",
    "\n",
    "pw= bankaccount(5000,10000)"
   ]
  },
  {
   "cell_type": "code",
   "execution_count": 18,
   "id": "0be492c5-5576-4ea7-9c7f-f24581c362b8",
   "metadata": {},
   "outputs": [
    {
     "ename": "AttributeError",
     "evalue": "'bankaccount' object has no attribute 'balance_access'",
     "output_type": "error",
     "traceback": [
      "\u001b[0;31m---------------------------------------------------------------------------\u001b[0m",
      "\u001b[0;31mAttributeError\u001b[0m                            Traceback (most recent call last)",
      "Cell \u001b[0;32mIn[18], line 1\u001b[0m\n\u001b[0;32m----> 1\u001b[0m \u001b[43mpw\u001b[49m\u001b[38;5;241;43m.\u001b[39;49m\u001b[43mbalance_access\u001b[49m()\n",
      "\u001b[0;31mAttributeError\u001b[0m: 'bankaccount' object has no attribute 'balance_access'"
     ]
    }
   ],
   "source": [
    "pw.balance_access()"
   ]
  },
  {
   "cell_type": "code",
   "execution_count": 9,
   "id": "92dbe5af-0765-42bf-9ebe-854dec6989db",
   "metadata": {},
   "outputs": [],
   "source": [
    "\"\"\"QTS. 5\"\"\"\n",
    "\"\"\"the process of redifining parent class method in child class \n",
    "   or sub class is known as method overriding, also known as \n",
    "   polymorphism or dynamic binding\"\"\"\n",
    "class add:\n",
    "    def addition(self,a,b):\n",
    "        self.a=a\n",
    "        self.b=b\n",
    "        return a+b\n",
    "    \n",
    "    \n",
    "class subs(add):\n",
    "    def subtract(self,a,b):\n",
    "        self.a=a\n",
    "        self.b=b\n",
    "        return a-b\n",
    "    def addition(self,a,b):\n",
    "        self.a=a\n",
    "        self.b=b\n",
    "        return a+b\n",
    "        "
   ]
  },
  {
   "cell_type": "code",
   "execution_count": 10,
   "id": "2ee37e05-243c-408d-9e7b-48367e19e119",
   "metadata": {},
   "outputs": [
    {
     "data": {
      "text/plain": [
       "38"
      ]
     },
     "execution_count": 10,
     "metadata": {},
     "output_type": "execute_result"
    }
   ],
   "source": [
    "s= subs()\n",
    "s.addition(15,23)"
   ]
  },
  {
   "cell_type": "code",
   "execution_count": null,
   "id": "994cf117-a362-4fef-aa48-0c86a6553467",
   "metadata": {},
   "outputs": [],
   "source": []
  }
 ],
 "metadata": {
  "kernelspec": {
   "display_name": "Python 3 (ipykernel)",
   "language": "python",
   "name": "python3"
  },
  "language_info": {
   "codemirror_mode": {
    "name": "ipython",
    "version": 3
   },
   "file_extension": ".py",
   "mimetype": "text/x-python",
   "name": "python",
   "nbconvert_exporter": "python",
   "pygments_lexer": "ipython3",
   "version": "3.10.8"
  }
 },
 "nbformat": 4,
 "nbformat_minor": 5
}
